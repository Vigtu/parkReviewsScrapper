{
 "cells": [
  {
   "cell_type": "markdown",
   "id": "780b96a4-493f-4bef-ac91-2e2bed7e307d",
   "metadata": {},
   "source": [
    "##### Import Necessary Libraries"
   ]
  },
  {
   "cell_type": "code",
   "execution_count": 14,
   "id": "32ddec7d-dcc0-4a5a-8532-37d9394c318b",
   "metadata": {},
   "outputs": [],
   "source": [
    "import pandas as pd\n",
    "import requests\n",
    "from bs4  import BeautifulSoup as bs\n",
    "from selenium import webdriver\n",
    "import re\n",
    "import time"
   ]
  },
  {
   "cell_type": "markdown",
   "id": "7c0efbb0-42c0-4b3b-8487-b1b5a1f5c302",
   "metadata": {},
   "source": [
    "##### Load the Web Page"
   ]
  },
  {
   "cell_type": "code",
   "execution_count": 15,
   "id": "1ae6d961-2a89-470b-92a8-d6abe89e7351",
   "metadata": {},
   "outputs": [],
   "source": [
    "driver = webdriver.Chrome()\n",
    "url = 'https://www.google.com/search?client=firefox-b-d&q=Parque+Bot%C3%A2nico+' \\\n",
    "      'da+Vale#ip=1&lrd=0xb819af7b273e05:0xa6cb675203cd8d3a,1,,,,'\n",
    "\n",
    "driver.get(url)\n",
    "\n",
    "time.sleep(10)"
   ]
  },
  {
   "cell_type": "markdown",
   "id": "e74e4b11-b86d-41f3-ad38-17522d48cbfa",
   "metadata": {},
   "source": [
    "##### Click the Reviews"
   ]
  },
  {
   "cell_type": "code",
   "execution_count": 16,
   "id": "55200257-893e-4c83-8fd6-10f554583f14",
   "metadata": {},
   "outputs": [],
   "source": [
    "element_show_all = driver.find_element('xpath', '/html/body/span[2]/g-lightbox/div/div[2]/div[3]/span/div/div/div/div[2]/div[3]/g-scrolling-carousel/div[1]/div/div[2]')\n",
    "element_show_all.click()"
   ]
  },
  {
   "cell_type": "code",
   "execution_count": 17,
   "id": "ea610533-4e90-4c4e-bbee-83fabd2c55e8",
   "metadata": {},
   "outputs": [],
   "source": [
    "entries = driver.find_elements('xpath', '//div[contains(@class, \"WMbnJf vY6njf gws-localreviews__google-review\")]')"
   ]
  },
  {
   "cell_type": "code",
   "execution_count": 18,
   "id": "40502e4d-29a2-49f2-91de-3378c726d464",
   "metadata": {},
   "outputs": [
    {
     "name": "stdout",
     "output_type": "stream",
     "text": [
      "Biankads ', 5,0, Lugar maravilhoso. Preservação da mata local. Você consegue fazer passeios para conhecer a história. Com direto até realidade virtual, para conhecer o navio.\n",
      "Um local incrível.\n",
      "Anderson Vicenzi, 5,0, Local muito bonito, arborizado e bem cuidado, quando chegar vá na recepção e agende o horário para o tour guiado mas trilhas e a visitação no complexo da Vale (passeio gratuito de ônibus as 10 e as 15hs)\n",
      "Priscila baldez, 5,0, Maravilhoso,passamos o dia lá,estava tendo evento em comemoração aos 20 anos do parque tudo gratuito,muito legal as crianças amaram,lugar agradável e familiar.\n",
      "Marcela Lima, 5,0, \n",
      "Rita De Cássia Celestino, 5,0, Perfeito para um passeio em família, em casal, ou até mesmo sozinho(a) . Aquele contato com a natureza que faz bem pra alma!\n",
      "Guilherme Monteiro, 5,0, \n",
      "Giulliano Kenzo Costa Pereira, 5,0, Parque bem arborizado, com parquinho, área para piquenique, algumas opções de comidas como uma cantina e carrinhos de sorvete, pipoca e chup chup. Ótimo principalmente para levar crianças.\n",
      "Neuma Gomes, 5,0, \n",
      "Dfabregass, 5,0, Excelente lugar para desfrutar com a família.\n",
      "Luiz Evangelista de Franca, 5,0, Lindo parque, muito bem estruturado e bem organizado. Durante o dia tem 2 tours gratuitos pelo parque, um pela manhã (não me recordo ao certo se às 9h00 ou 10h00) e outro às 15h00. Um lugar lindo e ideal pra fazer um piquenique em família\n"
     ]
    }
   ],
   "source": [
    "for entry in entries:\n",
    "    try:\n",
    "        # Extract the name of the reviewer\n",
    "        name = entry.find_element('xpath', './/div[@class=\"TSUbDb\"]/a').text\n",
    "        \n",
    "        # Extract the rating given by the reviewer\n",
    "        rating_text = entry.find_element('xpath', './/span[contains(@class, \"lTi8oc z3HNkc\")]').get_attribute(\"aria-label\")\n",
    "        rating_value = re.search(r'Classificado como (\\d,\\d)', rating_text).group(1)\n",
    "\n",
    "        #Extract the review text\n",
    "        review_text = entry.find_element('xpath', './/span[contains(@jscontroller, \"MZnM8e\")]//span[@data-expandable-section]').text\n",
    "        \n",
    "        print(f\"{name}, {rating_value}, {review_text}\")\n",
    "    except NoSuchElementException:\n",
    "        print(\"Name or rating element not found in this entry.\")"
   ]
  },
  {
   "cell_type": "code",
   "execution_count": null,
   "id": "8083690e-161c-4fce-9a8c-55e9837aaeb0",
   "metadata": {},
   "outputs": [],
   "source": []
  },
  {
   "cell_type": "code",
   "execution_count": null,
   "id": "baba45f1-c982-4b3c-90ba-e1e52bb1aef0",
   "metadata": {},
   "outputs": [],
   "source": []
  },
  {
   "cell_type": "code",
   "execution_count": null,
   "id": "f911d4c5-d3fe-40b9-80d5-f3c3d126c0fd",
   "metadata": {},
   "outputs": [],
   "source": []
  },
  {
   "cell_type": "code",
   "execution_count": null,
   "id": "01c99cf2-b370-46d1-9157-9b06b4533310",
   "metadata": {},
   "outputs": [],
   "source": []
  },
  {
   "cell_type": "code",
   "execution_count": null,
   "id": "4b3474c7-0aea-44fe-9e39-5f0dc4ff5303",
   "metadata": {},
   "outputs": [],
   "source": []
  },
  {
   "cell_type": "code",
   "execution_count": null,
   "id": "06788be2-facc-4d48-a5e3-3d3f4a279d23",
   "metadata": {},
   "outputs": [],
   "source": []
  },
  {
   "cell_type": "code",
   "execution_count": null,
   "id": "9725fa44-5369-41b7-a663-ff866a26c609",
   "metadata": {},
   "outputs": [],
   "source": []
  },
  {
   "cell_type": "code",
   "execution_count": null,
   "id": "fe424cee-08ba-4b33-a955-2cb9c3dae7bf",
   "metadata": {},
   "outputs": [],
   "source": []
  },
  {
   "cell_type": "code",
   "execution_count": null,
   "id": "3306989a-acb9-4481-9f02-dc10b276a0d5",
   "metadata": {},
   "outputs": [],
   "source": []
  },
  {
   "cell_type": "code",
   "execution_count": null,
   "id": "0d7530c7-02c5-41e4-b1c2-0745594e8cbd",
   "metadata": {},
   "outputs": [],
   "source": []
  },
  {
   "cell_type": "code",
   "execution_count": null,
   "id": "9af02cdc-1d86-4080-9216-b70bb3d449c5",
   "metadata": {},
   "outputs": [],
   "source": []
  },
  {
   "cell_type": "code",
   "execution_count": null,
   "id": "b44344de-cd64-4d2e-85e1-8848e2288f14",
   "metadata": {},
   "outputs": [],
   "source": []
  },
  {
   "cell_type": "code",
   "execution_count": null,
   "id": "95cd7890-7f0d-44e0-a9fa-89dfadb05495",
   "metadata": {},
   "outputs": [],
   "source": []
  },
  {
   "cell_type": "code",
   "execution_count": null,
   "id": "d81f5bab-20c3-4214-b642-1f923cb6f668",
   "metadata": {},
   "outputs": [],
   "source": []
  },
  {
   "cell_type": "code",
   "execution_count": null,
   "id": "39dab76c-618f-4d4c-bda3-a7dafd21b4f2",
   "metadata": {},
   "outputs": [],
   "source": []
  },
  {
   "cell_type": "code",
   "execution_count": null,
   "id": "68379735-358d-4309-a7d9-8e626f58a1b7",
   "metadata": {},
   "outputs": [],
   "source": []
  },
  {
   "cell_type": "code",
   "execution_count": null,
   "id": "f5a7c863-5453-46f4-89e3-697d87037da9",
   "metadata": {},
   "outputs": [],
   "source": []
  },
  {
   "cell_type": "code",
   "execution_count": null,
   "id": "75083232-d669-42fc-a944-25159714795c",
   "metadata": {},
   "outputs": [],
   "source": []
  },
  {
   "cell_type": "code",
   "execution_count": null,
   "id": "67b15729-dae3-4a7d-80cd-a6e8aa22e9d8",
   "metadata": {},
   "outputs": [],
   "source": []
  },
  {
   "cell_type": "code",
   "execution_count": null,
   "id": "66388205-84b3-4a59-87c9-015df064e48d",
   "metadata": {},
   "outputs": [],
   "source": []
  },
  {
   "cell_type": "code",
   "execution_count": null,
   "id": "82730e4e-6830-4b34-a385-d550ae0fcfd9",
   "metadata": {},
   "outputs": [],
   "source": []
  },
  {
   "cell_type": "code",
   "execution_count": null,
   "id": "f45160ca-6585-4588-89d3-9ba5cfd42261",
   "metadata": {},
   "outputs": [],
   "source": []
  },
  {
   "cell_type": "code",
   "execution_count": null,
   "id": "f1b77ccb-3492-4d41-96e2-ffbd45a5080b",
   "metadata": {},
   "outputs": [],
   "source": []
  },
  {
   "cell_type": "code",
   "execution_count": null,
   "id": "697f6198-5e1c-4757-9434-07c336c4dcc9",
   "metadata": {},
   "outputs": [],
   "source": []
  },
  {
   "cell_type": "code",
   "execution_count": null,
   "id": "4293aa77-6e15-48b4-84d0-afbd664b44cb",
   "metadata": {},
   "outputs": [],
   "source": []
  },
  {
   "cell_type": "code",
   "execution_count": null,
   "id": "ab05337c-bcf6-42ca-9afe-ada00f26432e",
   "metadata": {},
   "outputs": [],
   "source": []
  },
  {
   "cell_type": "code",
   "execution_count": null,
   "id": "ff5342d4-ec7c-48ab-a102-cc37fa7be25c",
   "metadata": {},
   "outputs": [],
   "source": []
  },
  {
   "cell_type": "code",
   "execution_count": null,
   "id": "78b5c182-44cb-4ef8-9024-6ef915979974",
   "metadata": {},
   "outputs": [],
   "source": []
  },
  {
   "cell_type": "code",
   "execution_count": null,
   "id": "5ea0a5d5-950a-42ac-9dbf-31d54476ac60",
   "metadata": {},
   "outputs": [],
   "source": []
  },
  {
   "cell_type": "code",
   "execution_count": null,
   "id": "c28d5d05-06d5-465f-a30a-d839d928480f",
   "metadata": {},
   "outputs": [],
   "source": []
  },
  {
   "cell_type": "code",
   "execution_count": null,
   "id": "3deb2bfd-aaad-4fb9-ae79-5b8c725bf927",
   "metadata": {},
   "outputs": [],
   "source": []
  },
  {
   "cell_type": "code",
   "execution_count": null,
   "id": "3829d2b8-3a38-410d-9883-69106aecde48",
   "metadata": {},
   "outputs": [],
   "source": []
  },
  {
   "cell_type": "code",
   "execution_count": null,
   "id": "112273e0-7b13-43c9-92e1-448df95c4edc",
   "metadata": {},
   "outputs": [],
   "source": []
  },
  {
   "cell_type": "code",
   "execution_count": null,
   "id": "b4898d93-0441-4c9c-afe1-a716580a3872",
   "metadata": {},
   "outputs": [],
   "source": []
  },
  {
   "cell_type": "code",
   "execution_count": null,
   "id": "d6eb09cc-8922-4521-88de-a8845ffcb7db",
   "metadata": {},
   "outputs": [],
   "source": []
  },
  {
   "cell_type": "code",
   "execution_count": null,
   "id": "df395639-ac72-47da-a723-5491a3744429",
   "metadata": {},
   "outputs": [],
   "source": []
  },
  {
   "cell_type": "code",
   "execution_count": null,
   "id": "a5f13abc-289c-4445-a7df-835a592e906c",
   "metadata": {},
   "outputs": [],
   "source": []
  },
  {
   "cell_type": "code",
   "execution_count": null,
   "id": "4fab7e5b-cdd1-4dfa-865c-f49b793a7683",
   "metadata": {},
   "outputs": [],
   "source": []
  },
  {
   "cell_type": "code",
   "execution_count": null,
   "id": "14c4f1af-e441-4b47-9b50-f4e9b375e57f",
   "metadata": {},
   "outputs": [],
   "source": []
  }
 ],
 "metadata": {
  "kernelspec": {
   "display_name": "Python 3 (ipykernel)",
   "language": "python",
   "name": "python3"
  },
  "language_info": {
   "codemirror_mode": {
    "name": "ipython",
    "version": 3
   },
   "file_extension": ".py",
   "mimetype": "text/x-python",
   "name": "python",
   "nbconvert_exporter": "python",
   "pygments_lexer": "ipython3",
   "version": "3.9.12"
  }
 },
 "nbformat": 4,
 "nbformat_minor": 5
}
