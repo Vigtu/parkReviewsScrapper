{
 "cells": [
  {
   "cell_type": "markdown",
   "id": "780b96a4-493f-4bef-ac91-2e2bed7e307d",
   "metadata": {},
   "source": [
    "##### Import Necessary Libraries"
   ]
  },
  {
   "cell_type": "code",
   "execution_count": 171,
   "id": "32ddec7d-dcc0-4a5a-8532-37d9394c318b",
   "metadata": {},
   "outputs": [],
   "source": [
    "import pandas as pd\n",
    "import requests\n",
    "from bs4  import BeautifulSoup as bs\n",
    "from selenium import webdriver\n",
    "from selenium.webdriver.common.by import By\n",
    "import re\n",
    "import time"
   ]
  },
  {
   "cell_type": "markdown",
   "id": "7c0efbb0-42c0-4b3b-8487-b1b5a1f5c302",
   "metadata": {},
   "source": [
    "##### Load the Web Page"
   ]
  },
  {
   "cell_type": "code",
   "execution_count": 172,
   "id": "1ae6d961-2a89-470b-92a8-d6abe89e7351",
   "metadata": {},
   "outputs": [],
   "source": [
    "driver = webdriver.Chrome()\n",
    "url = 'https://www.google.com/search?client=firefox-b-d&q=Parque+Bot%C3%A2nico+' \\\n",
    "      'da+Vale#ip=1&lrd=0xb819af7b273e05:0xa6cb675203cd8d3a,1,,,,'\n",
    "\n",
    "driver.get(url)\n",
    "\n",
    "time.sleep(10)"
   ]
  },
  {
   "cell_type": "markdown",
   "id": "e74e4b11-b86d-41f3-ad38-17522d48cbfa",
   "metadata": {},
   "source": [
    "##### Click the Reviews"
   ]
  },
  {
   "cell_type": "code",
   "execution_count": 173,
   "id": "55200257-893e-4c83-8fd6-10f554583f14",
   "metadata": {},
   "outputs": [],
   "source": [
    "element_show_all = driver.find_element('xpath', '/html/body/span[2]/g-lightbox/div/div[2]/div[3]/span/div/div/div/div[2]/div[3]/g-scrolling-carousel/div[1]/div/div[2]')\n",
    "element_show_all.click()"
   ]
  },
  {
   "cell_type": "code",
   "execution_count": 174,
   "id": "ea610533-4e90-4c4e-bbee-83fabd2c55e8",
   "metadata": {},
   "outputs": [],
   "source": [
    "entries = driver.find_elements('xpath', '//div[contains(@class, \"WMbnJf vY6njf gws-localreviews__google-review\")]')"
   ]
  },
  {
   "cell_type": "code",
   "execution_count": 175,
   "id": "d53358eb-c36d-4feb-afb0-4b2ba8692973",
   "metadata": {},
   "outputs": [],
   "source": [
    "class Review:\n",
    "    def __init__(self, name, text, rating):\n",
    "        self.name = name\n",
    "        self.text = text\n",
    "        self.rating = rating"
   ]
  },
  {
   "cell_type": "code",
   "execution_count": 176,
   "id": "40502e4d-29a2-49f2-91de-3378c726d464",
   "metadata": {},
   "outputs": [],
   "source": [
    "reviews = []\n",
    "\n",
    "for entry in entries:\n",
    "    try:\n",
    "        # Extract the name of the reviewer\n",
    "        name = entry.find_element('xpath', './/div[@class=\"TSUbDb\"]/a').text\n",
    "        \n",
    "        # Extract the rating given by the reviewer\n",
    "        rating_text = entry.find_element('xpath', './/span[contains(@class, \"lTi8oc z3HNkc\")]').get_attribute(\"aria-label\")\n",
    "        rating_value = re.search(r'Classificado como (\\d,\\d)', rating_text).group(1)\n",
    "\n",
    "        #Extract the review text\n",
    "        review_text = entry.find_element('xpath', './/span[contains(@jscontroller, \"MZnM8e\")]//span[@data-expandable-section]').text\n",
    "\n",
    "        review = Review(name, review_text, rating_value)\n",
    "    \n",
    "        reviews.append(review)\n",
    "\n",
    "    except NoSuchElementException:\n",
    "        print(\"Name or rating element not found in this entry.\")"
   ]
  },
  {
   "cell_type": "code",
   "execution_count": 177,
   "id": "32eb23f6-a4f4-4043-99f3-ba311c42774e",
   "metadata": {},
   "outputs": [],
   "source": [
    "max_scroll_time = 30 \n",
    "start_time = time.time()"
   ]
  },
  {
   "cell_type": "code",
   "execution_count": 179,
   "id": "3c3f9b11-1d33-4091-8137-bfc8ca528574",
   "metadata": {},
   "outputs": [],
   "source": [
    "reviews_container = driver.find_element('xpath', '//*[@id=\"gsr\"]/span[2]/g-lightbox/div/div[2]/div[3]/span/div/div/div/div[2]')\n",
    "\n",
    "last_height = driver.execute_script(\"return arguments[0].scrollHeight\", reviews_container)\n",
    "\n",
    "while time.time() - start_time < max_scroll_time:    \n",
    "    driver.execute_script(\"arguments[0].scrollTo(0, arguments[0].scrollHeight);\", reviews_container)\n",
    "\n",
    "\n",
    "    time.sleep(2) \n",
    "\n",
    "    new_height = driver.execute_script(\"return arguments[0].scrollHeight\", reviews_container)\n",
    "\n",
    "    \n",
    "    if new_height == last_height:\n",
    "        break\n",
    "\n",
    "    last_height = new_height"
   ]
  },
  {
   "cell_type": "code",
   "execution_count": null,
   "id": "c6cf4b61-995a-4e07-a973-2a5404ce20f1",
   "metadata": {},
   "outputs": [],
   "source": []
  },
  {
   "cell_type": "code",
   "execution_count": null,
   "id": "fd8aa093-4eb2-4aa0-93ad-50b9bdf2b83a",
   "metadata": {},
   "outputs": [],
   "source": []
  },
  {
   "cell_type": "code",
   "execution_count": null,
   "id": "b8bc004d-69ad-4fbf-a4c6-010a97ff8506",
   "metadata": {},
   "outputs": [],
   "source": []
  },
  {
   "cell_type": "code",
   "execution_count": null,
   "id": "d33fd2b6-d43b-455f-ac0d-bb6983dc572e",
   "metadata": {},
   "outputs": [],
   "source": []
  },
  {
   "cell_type": "code",
   "execution_count": null,
   "id": "3d053ce6-6ac2-43ca-8606-003578d1b71c",
   "metadata": {},
   "outputs": [],
   "source": []
  },
  {
   "cell_type": "code",
   "execution_count": null,
   "id": "a5f6e144-4231-409e-ac60-072c727338da",
   "metadata": {},
   "outputs": [],
   "source": []
  },
  {
   "cell_type": "code",
   "execution_count": null,
   "id": "e046cb10-db03-4bb5-98f5-0879636e801e",
   "metadata": {},
   "outputs": [],
   "source": []
  },
  {
   "cell_type": "code",
   "execution_count": null,
   "id": "e85eb97d-c38f-4037-a123-93cde791e060",
   "metadata": {},
   "outputs": [],
   "source": []
  },
  {
   "cell_type": "code",
   "execution_count": null,
   "id": "0b4f4b15-65b1-48ff-8a94-8874773c456e",
   "metadata": {},
   "outputs": [],
   "source": []
  },
  {
   "cell_type": "code",
   "execution_count": null,
   "id": "e277d594-fff0-4651-9f45-b22a75f0913b",
   "metadata": {},
   "outputs": [],
   "source": []
  },
  {
   "cell_type": "code",
   "execution_count": null,
   "id": "ab107371-877d-45d3-bbd7-a7ada2ddf231",
   "metadata": {},
   "outputs": [],
   "source": []
  },
  {
   "cell_type": "code",
   "execution_count": null,
   "id": "cdb48e94-7d60-42b1-8165-b001311efcb1",
   "metadata": {},
   "outputs": [],
   "source": []
  }
 ],
 "metadata": {
  "kernelspec": {
   "display_name": "Python 3 (ipykernel)",
   "language": "python",
   "name": "python3"
  },
  "language_info": {
   "codemirror_mode": {
    "name": "ipython",
    "version": 3
   },
   "file_extension": ".py",
   "mimetype": "text/x-python",
   "name": "python",
   "nbconvert_exporter": "python",
   "pygments_lexer": "ipython3",
   "version": "3.9.12"
  }
 },
 "nbformat": 4,
 "nbformat_minor": 5
}
